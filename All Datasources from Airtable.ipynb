{
 "cells": [
  {
   "cell_type": "markdown",
   "metadata": {},
   "source": [
    "# Introduction\n",
    "View and Explore data files listed on https://airtable.com/shr03m1opFmo8MJdr\n",
    "Note: due to airtable's API limitations, you'll have be a part of the workspace to download this data.\n",
    "\n",
    "Go to https://airtable.com/account to generate your own API key, and place `AIRTABLE_KEY=YOUR_KEY_HERE` in a file named `.env`"
   ]
  },
  {
   "cell_type": "markdown",
   "metadata": {},
   "source": [
    "### Imports\n",
    "Import libraries and write settings here."
   ]
  },
  {
   "cell_type": "code",
   "execution_count": 10,
   "metadata": {
    "ExecuteTime": {
     "end_time": "2020-12-06T20:25:48.792148Z",
     "start_time": "2020-12-06T20:25:48.754822Z"
    }
   },
   "outputs": [
    {
     "name": "stdout",
     "output_type": "stream",
     "text": [
      "The autoreload extension is already loaded. To reload it, use:\n",
      "  %reload_ext autoreload\n",
      "The dotenv extension is already loaded. To reload it, use:\n",
      "  %reload_ext dotenv\n"
     ]
    }
   ],
   "source": [
    "%load_ext autoreload\n",
    "%autoreload\n",
    "%load_ext dotenv\n",
    "%dotenv\n",
    "\n",
    "import pandas as pd\n",
    "import airtable #import Airtable\n",
    "import zipfile\n",
    "import os\n",
    "import requests\n",
    "from urllib.parse import urlparse\n",
    "import pdb\n",
    "\n",
    "AIRTABLE_URL = \"https://airtable.com/shr03m1opFmo8MJdr\""
   ]
  },
  {
   "cell_type": "markdown",
   "metadata": {},
   "source": [
    "# Download data"
   ]
  },
  {
   "cell_type": "code",
   "execution_count": 11,
   "metadata": {
    "ExecuteTime": {
     "end_time": "2020-12-06T20:25:49.883473Z",
     "start_time": "2020-12-06T20:25:49.854887Z"
    }
   },
   "outputs": [],
   "source": [
    "def download_and_unzip(url, filename):\n",
    "    verify_exceptions = ['www.cer-rec.gc.ca']\n",
    "    try:\n",
    "        if os.path.exists(filename):\n",
    "            os.remove(filename)\n",
    "        with open(filename, 'wb') as f:\n",
    "            verify = False if urlparse(url).netloc in verify_exceptions else True\n",
    "            resp = requests.get(url, verify=verify)\n",
    "            f.write(resp.content)\n",
    "            filenames = [filename]\n",
    "        if filename.split(\".\")[-1] == \"zip\":\n",
    "            with zipfile.ZipFile(filename, 'r') as zip_ref:\n",
    "                filenames = zip_ref.namelist()\n",
    "                zip_ref.extractall()\n",
    "        print(\"Successfully downloaded\")\n",
    "        return filenames\n",
    "    except Exception as e:\n",
    "        print(e)"
   ]
  },
  {
   "cell_type": "code",
   "execution_count": 12,
   "metadata": {
    "ExecuteTime": {
     "end_time": "2020-12-06T20:25:50.613933Z",
     "start_time": "2020-12-06T20:25:50.596530Z"
    }
   },
   "outputs": [],
   "source": [
    "data_files = airtable.Airtable(\"appHJQOgkMxgv7LJ6\", \"Table 1\", os.environ[\"AIRTABLE_KEY\"])"
   ]
  },
  {
   "cell_type": "code",
   "execution_count": 13,
   "metadata": {
    "ExecuteTime": {
     "end_time": "2020-12-06T20:26:05.880151Z",
     "start_time": "2020-12-06T20:25:51.101877Z"
    }
   },
   "outputs": [
    {
     "name": "stdout",
     "output_type": "stream",
     "text": [
      "/home/ryderb/Documents/Sideprojects/CarbonPolicy/EnergyFlowSankeyCanada/canada-sankey/data\n",
      "Downloading 'Another visualization of supply and demand of energy, as above:'\n",
      "Successfully downloaded\n",
      "Downloading 'Manufacturing industries, total annual energy fuel consumption in natural units'\n",
      "Successfully downloaded\n",
      "Downloading 'Supply and demand of primary and secondary energy in terajoules, annual'\n",
      "Successfully downloaded\n",
      "Downloading 'Natural Gas Exports and Imports Annual'\n"
     ]
    },
    {
     "name": "stderr",
     "output_type": "stream",
     "text": [
      "/home/ryderb/miniconda3/envs/supersankey/lib/python3.8/site-packages/urllib3/connectionpool.py:1013: InsecureRequestWarning: Unverified HTTPS request is being made to host 'www.cer-rec.gc.ca'. Adding certificate verification is strongly advised. See: https://urllib3.readthedocs.io/en/latest/advanced-usage.html#ssl-warnings\n",
      "  warnings.warn(\n"
     ]
    },
    {
     "name": "stdout",
     "output_type": "stream",
     "text": [
      "Successfully downloaded\n",
      "Downloading 'Electric power generation, annual fuel consumed by electric utility thermal plants'\n",
      "Successfully downloaded\n",
      "Downloading 'Electricity Exports and Imports Annual'\n"
     ]
    },
    {
     "name": "stderr",
     "output_type": "stream",
     "text": [
      "/home/ryderb/miniconda3/envs/supersankey/lib/python3.8/site-packages/urllib3/connectionpool.py:1013: InsecureRequestWarning: Unverified HTTPS request is being made to host 'www.cer-rec.gc.ca'. Adding certificate verification is strongly advised. See: https://urllib3.readthedocs.io/en/latest/advanced-usage.html#ssl-warnings\n",
      "  warnings.warn(\n"
     ]
    },
    {
     "name": "stdout",
     "output_type": "stream",
     "text": [
      "Successfully downloaded\n",
      "Downloading 'Natural Gas Exports and Imports Annual Data Dictionary'\n"
     ]
    },
    {
     "name": "stderr",
     "output_type": "stream",
     "text": [
      "/home/ryderb/miniconda3/envs/supersankey/lib/python3.8/site-packages/urllib3/connectionpool.py:1013: InsecureRequestWarning: Unverified HTTPS request is being made to host 'www.cer-rec.gc.ca'. Adding certificate verification is strongly advised. See: https://urllib3.readthedocs.io/en/latest/advanced-usage.html#ssl-warnings\n",
      "  warnings.warn(\n"
     ]
    },
    {
     "name": "stdout",
     "output_type": "stream",
     "text": [
      "Successfully downloaded\n",
      "Downloading 'Transportation Sector Energy Use - By Energy Source '\n",
      "Successfully downloaded\n",
      "Downloading 'Household energy consumption, by type of dwelling, Canada and provinces\n",
      "'\n",
      "Successfully downloaded\n",
      "Downloading 'Electric Power Generation by type of Electricity (includes, wind, solar, other)\n",
      "'\n",
      "Successfully downloaded\n",
      "Downloading 'Imports Exports Data Visualization'\n"
     ]
    },
    {
     "name": "stderr",
     "output_type": "stream",
     "text": [
      "/home/ryderb/miniconda3/envs/supersankey/lib/python3.8/site-packages/urllib3/connectionpool.py:1013: InsecureRequestWarning: Unverified HTTPS request is being made to host 'www.cer-rec.gc.ca'. Adding certificate verification is strongly advised. See: https://urllib3.readthedocs.io/en/latest/advanced-usage.html#ssl-warnings\n",
      "  warnings.warn(\n"
     ]
    },
    {
     "name": "stdout",
     "output_type": "stream",
     "text": [
      "Successfully downloaded\n",
      "Downloading 'Electricity Exports and Imports Data Dictionary'\n"
     ]
    },
    {
     "name": "stderr",
     "output_type": "stream",
     "text": [
      "/home/ryderb/miniconda3/envs/supersankey/lib/python3.8/site-packages/urllib3/connectionpool.py:1013: InsecureRequestWarning: Unverified HTTPS request is being made to host 'www.cer-rec.gc.ca'. Adding certificate verification is strongly advised. See: https://urllib3.readthedocs.io/en/latest/advanced-usage.html#ssl-warnings\n",
      "  warnings.warn(\n"
     ]
    },
    {
     "name": "stdout",
     "output_type": "stream",
     "text": [
      "Successfully downloaded\n",
      "Downloading 'Household energy consumption, Canada and provinces'\n",
      "Successfully downloaded\n",
      "/home/ryderb/Documents/Sideprojects/CarbonPolicy/EnergyFlowSankeyCanada/canada-sankey\n"
     ]
    }
   ],
   "source": [
    "\n",
    "table_1 = data_files.get_all()\n",
    "# Link is mandatory field\n",
    "mandatory_fields = ['Link', 'Name']\n",
    "for field in mandatory_fields:\n",
    "    table_1 = [entry for entry in table_1 if field in entry['fields'].keys()]\n",
    "%cd data\n",
    "for entry in table_1:\n",
    "    url = entry['fields']['Link']\n",
    "    filename = os.path.split(url)[-1]\n",
    "    if True or not os.path.exists(filename):\n",
    "        print(\"Downloading \\'{}\\'\".format(entry['fields']['Name']))\n",
    "        filenames = download_and_unzip(url, filename)\n",
    "    entry['fields']['filenames'] = filenames\n",
    "%cd .."
   ]
  },
  {
   "cell_type": "code",
   "execution_count": 14,
   "metadata": {
    "ExecuteTime": {
     "end_time": "2020-12-06T20:26:06.062499Z",
     "start_time": "2020-12-06T20:26:05.895538Z"
    },
    "scrolled": true
   },
   "outputs": [
    {
     "name": "stdout",
     "output_type": "stream",
     "text": [
      " 25100015.csv\r\n",
      " \u001b[0m\u001b[01;31m25100015-eng.zip\u001b[0m\r\n",
      " 25100015_MetaData.csv\r\n",
      " 25100017.csv\r\n",
      " \u001b[01;31m25100017-eng.zip\u001b[0m\r\n",
      " 25100017_MetaData.csv\r\n",
      " 25100025.csv\r\n",
      " 25100025-dirty.df\r\n",
      " \u001b[01;31m25100025-eng.zip\u001b[0m\r\n",
      " 25100025_MetaData.csv\r\n",
      " 25100025_MetaData-dirty.df\r\n",
      " 25100029.csv\r\n",
      " 25100029-dirty.df\r\n",
      " \u001b[01;31m25100029-eng.zip\u001b[0m\r\n",
      " 25100029_MetaData.csv\r\n",
      " 25100029_MetaData-dirty.df\r\n",
      " 25100060.csv\r\n",
      " 25100060-dirty.df\r\n",
      " \u001b[01;31m25100060-eng.zip\u001b[0m\r\n",
      " 25100060_MetaData.csv\r\n",
      " 25100060_MetaData-dirty.df\r\n",
      " 25100061.csv\r\n",
      " 25100061-dirty.df\r\n",
      " \u001b[01;31m25100061-eng.zip\u001b[0m\r\n",
      " 25100061_MetaData.csv\r\n",
      " 25100061_MetaData-dirty.df\r\n",
      " \u001b[01;32mdownload_data.sh\u001b[0m*\r\n",
      " electricity-exports-and-imports-annual.csv\r\n",
      " electricity-exports-and-imports-annual-dirty.df\r\n",
      " electricity-exports-and-imports-data-dictionary.csv\r\n",
      " imports-exports-data-visualization.csv\r\n",
      " natural-gas-exports-and-imports-annual.csv\r\n",
      " natural-gas-exports-and-imports-annual-dirty.df\r\n",
      " natural-gas-exports-and-imports-data-dictionary.csv\r\n",
      " sankey_example.csv\r\n",
      "'showTable.cfm?type=CP&sector=agr&juris=ca&rn=1&page=0'\r\n",
      "'showTable.cfm?type=CP&sector=com&juris=ca&rn=1&page=0'\r\n",
      "'showTable.cfm?type=CP&sector=com&juris=ca&rn=2&page=0'\r\n",
      "'showTable.cfm?type=CP&sector=com&juris=ca&rn=4&page=0'\r\n",
      "'showTable.cfm?type=CP&sector=id&juris=ca&rn=1&page=0'\r\n",
      "'showTable.cfm?type=CP&sector=id&juris=ca&rn=3&page=0'\r\n",
      "'showTable.cfm?type=CP&sector=res&juris=ca&rn=1&page=0'\r\n",
      "'showTable.cfm?type=CP&sector=res&juris=ca&rn=2&page=0'\r\n",
      "'showTable.cfm?type=CP&sector=tran&juris=ca&rn=1&page=0#footnotes'\r\n",
      " tran_ca_e_1.xls\r\n",
      " trends_agr_ca.cfm\r\n",
      " trends_com_ca.cfm\r\n",
      " trends_id_ca.cfm\r\n",
      " trends_res_ca.cfm\r\n",
      " trends_tran_ca.cfm\r\n",
      "'tv.action?pid=2510007901'\r\n"
     ]
    }
   ],
   "source": [
    "%ls data"
   ]
  },
  {
   "cell_type": "markdown",
   "metadata": {},
   "source": [
    "# Load & Explore Data"
   ]
  },
  {
   "cell_type": "code",
   "execution_count": 15,
   "metadata": {
    "ExecuteTime": {
     "end_time": "2020-12-06T20:26:27.558939Z",
     "start_time": "2020-12-06T20:26:26.703569Z"
    },
    "scrolled": true
   },
   "outputs": [
    {
     "name": "stdout",
     "output_type": "stream",
     "text": [
      "/home/ryderb/Documents/Sideprojects/CarbonPolicy/EnergyFlowSankeyCanada/canada-sankey/data\n",
      "'dataframe'\n",
      "Error tokenizing data. C error: Expected 1 fields in line 9, saw 2\n",
      "\n",
      "'dataframe'\n",
      "/home/ryderb/Documents/Sideprojects/CarbonPolicy/EnergyFlowSankeyCanada/canada-sankey\n"
     ]
    },
    {
     "name": "stderr",
     "output_type": "stream",
     "text": [
      "/home/ryderb/.local/lib/python3.8/site-packages/IPython/core/interactiveshell.py:3338: DtypeWarning: Columns (13) have mixed types.Specify dtype option on import or set low_memory=False.\n",
      "  if (await self.run_code(code, result,  async_=asy)):\n"
     ]
    }
   ],
   "source": [
    "datasets = []\n",
    "%cd data\n",
    "\n",
    "def read_file_to_df(filename, file_ext, table_type, data_entry, save=True):\n",
    "    \"\"\"\n",
    "    table_type: array containing 'Table' or 'Dictionary'\n",
    "    \"\"\"\n",
    "    read_method = {\"csv\": pd.read_csv, \"xlsx\": pd.read_excel, \"xls\": pd.read_excel}\n",
    "    \n",
    "    try:\n",
    "        if file_ext in read_method.keys():\n",
    "            if 'Table' in table_type:\n",
    "            # Could have just passed the url, but some datasets were zipped\n",
    "                try:\n",
    "                    entry['dataframe'] = read_method[file_ext](filename)\n",
    "                except UnicodeDecodeError:\n",
    "                    entry['dataframe'] = read_method[file_ext](filename, encoding='latin-1')\n",
    "                datasets.append(entry['dataframe'])\n",
    "                pd.to_pickle(entry['dataframe'], filename.split('.')[0] + \"-dirty.df\")\n",
    "            if 'Dictionary' in table_type:\n",
    "                # Could have just passed the url, but some datasets were zipped\n",
    "                try:\n",
    "                    entry['data-dictionary'] = read_method[file_ext](filename)\n",
    "                except UnicodeDecodeError:\n",
    "                    entry['data-dictionary'] = read_method[file_ext](filename, encoding='latin-1')\n",
    "                pd.to_pickle(entry['dataframe'], filename.split('.')[0] + \"-dirty.df\")\n",
    "                \n",
    "    except Exception as e:\n",
    "        print(e)\n",
    "\n",
    "for entry in table_1:\n",
    "    url = entry['fields']['Link']\n",
    "    filename = os.path.split(url)[-1]\n",
    "    file_ext = filename.split('.')[-1]\n",
    "    if file_ext == \"zip\":\n",
    "        # Figure out which filename is data, and which is dictionary\n",
    "        for filename in entry['fields']['filenames']:\n",
    "            file_ext = filename.split('.')[-1]\n",
    "            # This works so far for statscan datasets\n",
    "            if \"meta\" in filename.lower():\n",
    "                read_file_to_df(filename, file_ext, [\"Dictionary\"], entry)\n",
    "            else:\n",
    "                read_file_to_df(filename, file_ext, [\"Table\"], entry)\n",
    "                \n",
    "    read_file_to_df(filename, file_ext, entry['fields']['Type'], entry)\n",
    "%cd ..\n",
    "        "
   ]
  },
  {
   "cell_type": "code",
   "execution_count": 16,
   "metadata": {
    "ExecuteTime": {
     "end_time": "2020-12-06T19:55:13.258285Z",
     "start_time": "2020-12-06T19:55:13.240646Z"
    }
   },
   "outputs": [
    {
     "data": {
      "text/plain": [
       "['Another visualization of supply and demand of energy, as above:',\n",
       " 'Manufacturing industries, total annual energy fuel consumption in natural units',\n",
       " 'Supply and demand of primary and secondary energy in terajoules, annual',\n",
       " 'Natural Gas Exports and Imports Annual',\n",
       " 'Electric power generation, annual fuel consumed by electric utility thermal plants',\n",
       " 'Electricity Exports and Imports Annual',\n",
       " 'Natural Gas Exports and Imports Annual Data Dictionary',\n",
       " 'Transportation Sector Energy Use - By Energy Source ',\n",
       " 'Household energy consumption, by type of dwelling, Canada and provinces\\n',\n",
       " 'Electric Power Generation by type of Electricity (includes, wind, solar, other)\\n',\n",
       " 'Imports Exports Data Visualization',\n",
       " 'Electricity Exports and Imports Data Dictionary',\n",
       " 'Household energy consumption, Canada and provinces']"
      ]
     },
     "metadata": {},
     "output_type": "display_data"
    }
   ],
   "source": [
    "display([entry['fields']['Name'] for entry in table_1])\n",
    "\n"
   ]
  },
  {
   "cell_type": "code",
   "execution_count": null,
   "metadata": {},
   "outputs": [],
   "source": []
  }
 ],
 "metadata": {
  "kernelspec": {
   "display_name": "supersankey",
   "language": "python",
   "name": "supersankey"
  },
  "language_info": {
   "codemirror_mode": {
    "name": "ipython",
    "version": 3
   },
   "file_extension": ".py",
   "mimetype": "text/x-python",
   "name": "python",
   "nbconvert_exporter": "python",
   "pygments_lexer": "ipython3",
   "version": "3.8.6"
  },
  "toc": {
   "base_numbering": 1,
   "nav_menu": {},
   "number_sections": true,
   "sideBar": true,
   "skip_h1_title": false,
   "title_cell": "Table of Contents",
   "title_sidebar": "Contents",
   "toc_cell": false,
   "toc_position": {},
   "toc_section_display": true,
   "toc_window_display": false
  }
 },
 "nbformat": 4,
 "nbformat_minor": 4
}
