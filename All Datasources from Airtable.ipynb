{
 "cells": [
  {
   "cell_type": "markdown",
   "metadata": {},
   "source": [
    "# Introduction\n",
    "View and Explore data files listed on https://airtable.com/shr03m1opFmo8MJdr\n",
    "Note: due to airtable's API limitations, you'll have be a part of the workspace to download this data.\n",
    "\n",
    "Go to https://airtable.com/account to generate your own API key, and place `AIRTABLE_KEY=YOUR_KEY_HERE` in a file named `.env`"
   ]
  },
  {
   "cell_type": "markdown",
   "metadata": {},
   "source": [
    "### Imports\n",
    "Import libraries and write settings here."
   ]
  },
  {
   "cell_type": "code",
   "execution_count": 1,
   "metadata": {
    "ExecuteTime": {
     "end_time": "2020-12-06T06:37:08.042544Z",
     "start_time": "2020-12-06T06:37:07.278769Z"
    }
   },
   "outputs": [],
   "source": [
    "%load_ext autoreload\n",
    "%autoreload\n",
    "%load_ext dotenv\n",
    "%dotenv\n",
    "\n",
    "import pandas as pd\n",
    "import airtable #import Airtable\n",
    "import zipfile\n",
    "import os\n",
    "import requests\n",
    "from urllib.parse import urlparse\n",
    "\n",
    "\n",
    "AIRTABLE_URL = \"https://airtable.com/shr03m1opFmo8MJdr\""
   ]
  },
  {
   "cell_type": "markdown",
   "metadata": {},
   "source": [
    "# Download data"
   ]
  },
  {
   "cell_type": "code",
   "execution_count": 2,
   "metadata": {
    "ExecuteTime": {
     "end_time": "2020-12-06T06:37:08.073994Z",
     "start_time": "2020-12-06T06:37:08.048169Z"
    }
   },
   "outputs": [],
   "source": [
    "def download_and_unzip(url, filename):\n",
    "    verify_exceptions = ['www.cer-rec.gc.ca']\n",
    "    try:\n",
    "        if os.path.exists(filename):\n",
    "            os.remove(filename)\n",
    "        with open(filename, 'wb') as f:\n",
    "            verify = False if urlparse(url).netloc in verify_exceptions else True\n",
    "            resp = requests.get(url, verify=verify)\n",
    "            f.write(resp.content)\n",
    "        if filename.split(\".\")[-1] == \"zip\":\n",
    "            with zipfile.ZipFile(filename, 'r') as zip_ref:\n",
    "                zip_ref.extractall()\n",
    "        print(\"Successfully downloaded\")\n",
    "    except Exception as e:\n",
    "        print(e)"
   ]
  },
  {
   "cell_type": "code",
   "execution_count": 3,
   "metadata": {
    "ExecuteTime": {
     "end_time": "2020-12-06T06:37:08.095941Z",
     "start_time": "2020-12-06T06:37:08.078810Z"
    }
   },
   "outputs": [],
   "source": [
    "data_files = airtable.Airtable(\"appHJQOgkMxgv7LJ6\", \"Table 1\", os.environ[\"AIRTABLE_KEY\"])"
   ]
  },
  {
   "cell_type": "code",
   "execution_count": 4,
   "metadata": {
    "ExecuteTime": {
     "end_time": "2020-12-06T06:37:18.157439Z",
     "start_time": "2020-12-06T06:37:08.100259Z"
    }
   },
   "outputs": [
    {
     "name": "stdout",
     "output_type": "stream",
     "text": [
      "/home/ryderb/Documents/Sideprojects/CarbonPolicy/EnergyFlowSankeyCanada/canada-sankey/data\n",
      "Downloading 'Supply and demand of primary and secondary energy in terajoules, annual'\n",
      "Successfully downloaded\n",
      "Downloading 'Natural Gas Exports and Imports Annual'\n"
     ]
    },
    {
     "name": "stderr",
     "output_type": "stream",
     "text": [
      "/home/ryderb/miniconda3/envs/supersankey/lib/python3.8/site-packages/urllib3/connectionpool.py:1013: InsecureRequestWarning: Unverified HTTPS request is being made to host 'www.cer-rec.gc.ca'. Adding certificate verification is strongly advised. See: https://urllib3.readthedocs.io/en/latest/advanced-usage.html#ssl-warnings\n",
      "  warnings.warn(\n"
     ]
    },
    {
     "name": "stdout",
     "output_type": "stream",
     "text": [
      "Successfully downloaded\n",
      "Downloading 'Electricity Exports and Imports Annual'\n"
     ]
    },
    {
     "name": "stderr",
     "output_type": "stream",
     "text": [
      "/home/ryderb/miniconda3/envs/supersankey/lib/python3.8/site-packages/urllib3/connectionpool.py:1013: InsecureRequestWarning: Unverified HTTPS request is being made to host 'www.cer-rec.gc.ca'. Adding certificate verification is strongly advised. See: https://urllib3.readthedocs.io/en/latest/advanced-usage.html#ssl-warnings\n",
      "  warnings.warn(\n"
     ]
    },
    {
     "name": "stdout",
     "output_type": "stream",
     "text": [
      "Successfully downloaded\n",
      "Downloading 'Natural Gas Exports and Imports Annual Data Dictionary'\n"
     ]
    },
    {
     "name": "stderr",
     "output_type": "stream",
     "text": [
      "/home/ryderb/miniconda3/envs/supersankey/lib/python3.8/site-packages/urllib3/connectionpool.py:1013: InsecureRequestWarning: Unverified HTTPS request is being made to host 'www.cer-rec.gc.ca'. Adding certificate verification is strongly advised. See: https://urllib3.readthedocs.io/en/latest/advanced-usage.html#ssl-warnings\n",
      "  warnings.warn(\n"
     ]
    },
    {
     "name": "stdout",
     "output_type": "stream",
     "text": [
      "Successfully downloaded\n",
      "Downloading 'Imports Exports Data Visualization'\n"
     ]
    },
    {
     "name": "stderr",
     "output_type": "stream",
     "text": [
      "/home/ryderb/miniconda3/envs/supersankey/lib/python3.8/site-packages/urllib3/connectionpool.py:1013: InsecureRequestWarning: Unverified HTTPS request is being made to host 'www.cer-rec.gc.ca'. Adding certificate verification is strongly advised. See: https://urllib3.readthedocs.io/en/latest/advanced-usage.html#ssl-warnings\n",
      "  warnings.warn(\n"
     ]
    },
    {
     "name": "stdout",
     "output_type": "stream",
     "text": [
      "Successfully downloaded\n",
      "Downloading 'Electricity Exports and Imports Data Dictionary'\n",
      "Successfully downloaded\n",
      "/home/ryderb/Documents/Sideprojects/CarbonPolicy/EnergyFlowSankeyCanada/canada-sankey\n"
     ]
    },
    {
     "name": "stderr",
     "output_type": "stream",
     "text": [
      "/home/ryderb/miniconda3/envs/supersankey/lib/python3.8/site-packages/urllib3/connectionpool.py:1013: InsecureRequestWarning: Unverified HTTPS request is being made to host 'www.cer-rec.gc.ca'. Adding certificate verification is strongly advised. See: https://urllib3.readthedocs.io/en/latest/advanced-usage.html#ssl-warnings\n",
      "  warnings.warn(\n"
     ]
    }
   ],
   "source": [
    "table_1 = data_files.get_all()\n",
    "%cd data\n",
    "for entry in table_1:\n",
    "    url = entry['fields']['Link']\n",
    "    filename = os.path.split(url)[-1]\n",
    "    if True or not os.path.exists(filename):\n",
    "        print(\"Downloading \\'{}\\'\".format(entry['fields']['Name']))\n",
    "        download_and_unzip(url, filename)\n",
    "%cd .."
   ]
  },
  {
   "cell_type": "code",
   "execution_count": 5,
   "metadata": {
    "ExecuteTime": {
     "end_time": "2020-12-06T06:37:18.379408Z",
     "start_time": "2020-12-06T06:37:18.173043Z"
    },
    "scrolled": true
   },
   "outputs": [
    {
     "name": "stdout",
     "output_type": "stream",
     "text": [
      "25100029.csv\r\n",
      "\u001b[0m\u001b[01;31m25100029-eng.zip\u001b[0m\r\n",
      "25100029_MetaData.csv\r\n",
      "\u001b[01;32mdownload_data.sh\u001b[0m*\r\n",
      "electricity-exports-and-imports-annual.csv\r\n",
      "electricity-exports-and-imports-data-dictionary.csv\r\n",
      "imports-exports-data-visualization.csv\r\n",
      "natural-gas-exports-and-imports-annual.csv\r\n",
      "natural-gas-exports-and-imports-data-dictionary.csv\r\n",
      "sankey_example.csv\r\n"
     ]
    }
   ],
   "source": [
    "%ls data"
   ]
  },
  {
   "cell_type": "markdown",
   "metadata": {},
   "source": [
    "# Load & Explore Data"
   ]
  },
  {
   "cell_type": "code",
   "execution_count": 7,
   "metadata": {
    "ExecuteTime": {
     "end_time": "2020-12-06T06:37:27.045458Z",
     "start_time": "2020-12-06T06:37:26.895625Z"
    }
   },
   "outputs": [
    {
     "name": "stdout",
     "output_type": "stream",
     "text": [
      "[Errno 2] No such file or directory: 'data'\n",
      "/home/ryderb/Documents/Sideprojects/CarbonPolicy/EnergyFlowSankeyCanada/canada-sankey/data\n",
      "25100029-eng.zip\n",
      "natural-gas-exports-and-imports-annual.csv\n",
      "electricity-exports-and-imports-annual.csv\n",
      "natural-gas-exports-and-imports-data-dictionary.csv\n",
      "imports-exports-data-visualization.csv\n",
      "Error tokenizing data. C error: Expected 1 fields in line 9, saw 2\n",
      "\n",
      "electricity-exports-and-imports-data-dictionary.csv\n",
      "/home/ryderb/Documents/Sideprojects/CarbonPolicy/EnergyFlowSankeyCanada/canada-sankey\n"
     ]
    }
   ],
   "source": [
    "datasets = []\n",
    "%cd data\n",
    "for entry in table_1:\n",
    "    url = entry['fields']['Link']\n",
    "    filename = os.path.split(url)[-1]\n",
    "    file_type = filename.split('.')[-1]\n",
    "    print(filename)\n",
    "    read_method = {\"csv\": pd.read_csv, \"xlsx\": pd.read_excel}\n",
    "    try:\n",
    "        if file_type in read_method.keys():\n",
    "            if 'Table' in entry['fields']['Type']:\n",
    "            # Could have just passed the url, but some datasets were zipped\n",
    "                try:\n",
    "                    entry['dataframe'] = read_method[file_type](filename)\n",
    "                except UnicodeDecodeError:\n",
    "                    entry['dataframe'] = read_method[file_type](filename, encoding='latin-1')\n",
    "                datasets.append(entry['dataframe'])\n",
    "            if 'Dictionary' in entry['fields']['Type']:\n",
    "                # Could have just passed the url, but some datasets were zipped\n",
    "                try:\n",
    "                    entry['data-dictionary'] = read_method[file_type](filename)\n",
    "                except UnicodeDecodeError:\n",
    "                    entry['data-dictionary'] = read_method[file_type](filename, encoding='latin-1')\n",
    "    except Exception as e:\n",
    "        print(e)\n",
    "%cd ..\n",
    "        "
   ]
  }
 ],
 "metadata": {
  "kernelspec": {
   "display_name": "supersankey",
   "language": "python",
   "name": "supersankey"
  },
  "language_info": {
   "codemirror_mode": {
    "name": "ipython",
    "version": 3
   },
   "file_extension": ".py",
   "mimetype": "text/x-python",
   "name": "python",
   "nbconvert_exporter": "python",
   "pygments_lexer": "ipython3",
   "version": "3.8.5"
  },
  "toc": {
   "base_numbering": 1,
   "nav_menu": {},
   "number_sections": true,
   "sideBar": true,
   "skip_h1_title": false,
   "title_cell": "Table of Contents",
   "title_sidebar": "Contents",
   "toc_cell": false,
   "toc_position": {},
   "toc_section_display": true,
   "toc_window_display": false
  }
 },
 "nbformat": 4,
 "nbformat_minor": 4
}
