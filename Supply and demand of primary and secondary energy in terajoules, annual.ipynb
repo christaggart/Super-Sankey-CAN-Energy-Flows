{
 "cells": [
  {
   "cell_type": "markdown",
   "metadata": {},
   "source": [
    "# Data cleaning"
   ]
  },
  {
   "cell_type": "markdown",
   "metadata": {},
   "source": [
    "### Imports\n",
    "Import libraries and write settings here."
   ]
  },
  {
   "cell_type": "code",
   "execution_count": 23,
   "metadata": {
    "ExecuteTime": {
     "end_time": "2020-12-07T03:03:36.289681Z",
     "start_time": "2020-12-07T03:03:35.568612Z"
    }
   },
   "outputs": [
    {
     "name": "stdout",
     "output_type": "stream",
     "text": [
      "The autoreload extension is already loaded. To reload it, use:\n",
      "  %reload_ext autoreload\n",
      "The dotenv extension is already loaded. To reload it, use:\n",
      "  %reload_ext dotenv\n"
     ]
    }
   ],
   "source": [
    "%load_ext autoreload\n",
    "%autoreload\n",
    "%load_ext dotenv\n",
    "%dotenv\n",
    "\n",
    "import pandas as pd\n",
    "import os\n",
    "import qgrid\n",
    "import ipywidgets\n",
    "import numpy as np"
   ]
  },
  {
   "cell_type": "code",
   "execution_count": 24,
   "metadata": {
    "ExecuteTime": {
     "end_time": "2020-12-07T03:03:36.304227Z",
     "start_time": "2020-12-07T03:03:36.291715Z"
    }
   },
   "outputs": [],
   "source": [
    "file_id = \"25100029\"\n",
    "filepath = \"data/{}_MetaData-dirty.df\".format(file_id)\n",
    "df_dictionary = pd.read_pickle('data/{}_MetaData-dirty.df'.format(file_id))\n",
    "df = pd.read_pickle('data/{}-dirty.df'.format(file_id))\n",
    "qgrid.enable()"
   ]
  },
  {
   "cell_type": "markdown",
   "metadata": {},
   "source": [
    "## Guide to StatsCan datasets\n",
    "See https://www.statcan.gc.ca/eng/developers/csv/user-guide for description of column names.  Re-summarized here for reference:\n",
    "\n",
    "Comments on columns:\n",
    "\n",
    "|Column | StatsCan Notes | Our Notes |\n",
    "|:--| :--| :--|\n",
    "|UOM ID (Units of measure ID) | | seems only to be necessarily to have a unique identifier to deal with Eng/French translation of units of measurement, so ignore this for now|\n",
    "|SCALAR_FACTOR | The scalar factor associated with a data series, displayed as text. | Disregard this if all entries are 'units' (scalar factor of 1)|\n",
    "| Scalar_ID | | See above |\n",
    "| Vector |Unique variable length reference code time-series identifier, consisting of the letter 'V', followed by up to 10 digits. (i.e. V1234567890, V1, etc.) | Don't understand this | \n",
    "| Status | Shows various states of a data value using symbols. These symbols are described in the [symbol legend](https://www.statcan.gc.ca/eng/concepts/definitions/guide-symbol) and notes contained in the metadata file. Some symbols accompany a data value while others replace a data value. i.e. – A, B, C, D, E, F,.., X, 0s | It's at row 98 of the data dictionary here|\n",
    "| Symbol | Describes data points that are preliminary or revised, displayed using the symbols p and r. These symbols accompany a data value.| Can drop this | \n",
    "| DECIMALS | This field displays the decimal precision for a given value. | We should append this to VALUE before converting it to numeric |\n",
    "\n",
    "\n",
    "\n",
    "\n"
   ]
  },
  {
   "cell_type": "code",
   "execution_count": 25,
   "metadata": {},
   "outputs": [
    {
     "data": {
      "application/vnd.jupyter.widget-view+json": {
       "model_id": "7da31ed7d6f443c9a4d281c273313b5c",
       "version_major": 2,
       "version_minor": 0
      },
      "text/plain": [
       "QgridWidget(grid_options={'fullWidthRows': True, 'syncColumnCellResize': True, 'forceFitColumns': True, 'defau…"
      ]
     },
     "metadata": {},
     "output_type": "display_data"
    }
   ],
   "source": [
    "symbol_legend = df_dictionary.iloc[98:113].copy()\n",
    "col_rename_dict = {\"Cube Title\": \"Description\", \"Product Id\": \"Symbol\"}\n",
    "symbol_legend = symbol_legend.rename(columns=col_rename_dict)\n",
    "symbol_legend = symbol_legend[col_rename_dict.values()]\n",
    "symbol_legend.reset_index(drop=True) # Otherwise, index starts at 98"
   ]
  },
  {
   "cell_type": "markdown",
   "metadata": {},
   "source": [
    "### Rename and drop columns"
   ]
  },
  {
   "cell_type": "code",
   "execution_count": 26,
   "metadata": {},
   "outputs": [],
   "source": [
    "def columns_with_unique_val(df):\n",
    "    unique = []\n",
    "    val = []\n",
    "    for col in df.columns:\n",
    "        values = df[col].unique()\n",
    "        if len(values) == 1:\n",
    "            unique.append(col)\n",
    "            val.append(values[0])\n",
    "            \n",
    "    return unique, val\n",
    "\n",
    "# Drop columns whose only value is nan\n",
    "df.dropna(axis=1, how='all')\n",
    "\n",
    "column_map={\"REF_DATE\": \"Year\", \"GEO\": \"Region\", \"UOM\": \"Unit of measurement\"}\n",
    "df = df.rename(columns=column_map)\n",
    "\n",
    "# Unless we combine multiple tables where these values differ \n",
    "# (for instance, multiple units of measurement), let's store this outside of the df\n",
    "drop_cols, vals = columns_with_unique_val(df)\n",
    "table_metadata = {drop_cols[i]: vals[i] for i in range(len(drop_cols))}\n",
    "\n",
    "df = df.drop(drop_cols, axis=1)"
   ]
  },
  {
   "cell_type": "code",
   "execution_count": 27,
   "metadata": {
    "scrolled": true
   },
   "outputs": [
    {
     "data": {
      "application/vnd.jupyter.widget-view+json": {
       "model_id": "a020f9d46e8d40648ed1ae4fa69a4f35",
       "version_major": 2,
       "version_minor": 0
      },
      "text/plain": [
       "QgridWidget(grid_options={'fullWidthRows': True, 'syncColumnCellResize': True, 'forceFitColumns': True, 'defau…"
      ]
     },
     "metadata": {},
     "output_type": "display_data"
    }
   ],
   "source": [
    "df['Supply and demand characteristics'].unique()\n",
    "df.columns\n",
    "# table_metadata\n",
    "df"
   ]
  },
  {
   "cell_type": "markdown",
   "metadata": {},
   "source": [
    "### Set datatypes"
   ]
  },
  {
   "cell_type": "code",
   "execution_count": 28,
   "metadata": {},
   "outputs": [
    {
     "data": {
      "application/vnd.jupyter.widget-view+json": {
       "model_id": "e24b68c23c624cb2ab0aa2c94b8594d0",
       "version_major": 2,
       "version_minor": 0
      },
      "text/plain": [
       "QgridWidget(grid_options={'fullWidthRows': True, 'syncColumnCellResize': True, 'forceFitColumns': True, 'defau…"
      ]
     },
     "metadata": {},
     "output_type": "display_data"
    }
   ],
   "source": [
    "display(df.dtypes)\n",
    "\n",
    "df['Year'] = pd.to_numeric(df['Year'])\n",
    "df['VALUE'] = pd.to_numeric(df['VALUE'])"
   ]
  },
  {
   "cell_type": "markdown",
   "metadata": {},
   "source": [
    "# Exploration"
   ]
  },
  {
   "cell_type": "code",
   "execution_count": 29,
   "metadata": {},
   "outputs": [
    {
     "data": {
      "application/vnd.jupyter.widget-view+json": {
       "model_id": "e7e1f26266a448a6b06f21b8fbe176be",
       "version_major": 2,
       "version_minor": 0
      },
      "text/plain": [
       "QgridWidget(grid_options={'fullWidthRows': True, 'syncColumnCellResize': True, 'forceFitColumns': True, 'defau…"
      ]
     },
     "metadata": {},
     "output_type": "display_data"
    }
   ],
   "source": [
    "def search(term, df):\n",
    "    mask = np.column_stack([df[col].str.contains(term, na=False) for col in df])\n",
    "    return df.loc[mask.any(axis=1)]\n",
    "    \n",
    "search(\"symbol\", df_dictionary)"
   ]
  },
  {
   "cell_type": "markdown",
   "metadata": {},
   "source": [
    "# Export data"
   ]
  },
  {
   "cell_type": "code",
   "execution_count": 30,
   "metadata": {},
   "outputs": [],
   "source": [
    "export_df = df[(df[\"Region\"] == \"Canada\") & (df[\"Year\"] == 2018)][['Fuel type', 'Supply and demand characteristics', 'VALUE']]\n",
    "export_df.to_csv(\"{}_clean_minimal.csv\".format(file_id), index=False)"
   ]
  },
  {
   "cell_type": "code",
   "execution_count": null,
   "metadata": {},
   "outputs": [],
   "source": []
  }
 ],
 "metadata": {
  "kernelspec": {
   "display_name": "supersankey",
   "language": "python",
   "name": "supersankey"
  },
  "language_info": {
   "codemirror_mode": {
    "name": "ipython",
    "version": 3
   },
   "file_extension": ".py",
   "mimetype": "text/x-python",
   "name": "python",
   "nbconvert_exporter": "python",
   "pygments_lexer": "ipython3",
   "version": "3.8.6"
  },
  "toc": {
   "base_numbering": 1,
   "nav_menu": {},
   "number_sections": true,
   "sideBar": true,
   "skip_h1_title": false,
   "title_cell": "Table of Contents",
   "title_sidebar": "Contents",
   "toc_cell": false,
   "toc_position": {},
   "toc_section_display": true,
   "toc_window_display": false
  }
 },
 "nbformat": 4,
 "nbformat_minor": 4
}
