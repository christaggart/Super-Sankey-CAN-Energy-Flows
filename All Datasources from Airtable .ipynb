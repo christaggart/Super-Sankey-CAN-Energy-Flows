{
 "cells": [
  {
   "cell_type": "markdown",
   "metadata": {},
   "source": [
    "# Introduction\n",
    "View and Explore data files listed on https://airtable.com/shr03m1opFmo8MJdr\n",
    "Note: due to airtable's API limitations, you'll have be a part of the workspace to download this data.\n",
    "\n",
    "Go to https://airtable.com/account to generate your own API key, and place `AIRTABLE_KEY=YOUR_KEY_HERE` in a file named `.env`"
   ]
  },
  {
   "cell_type": "markdown",
   "metadata": {},
   "source": [
    "### Imports\n",
    "Import libraries and write settings here."
   ]
  },
  {
   "cell_type": "code",
   "execution_count": 88,
   "metadata": {
    "ExecuteTime": {
     "end_time": "2020-12-06T20:25:48.792148Z",
     "start_time": "2020-12-06T20:25:48.754822Z"
    }
   },
   "outputs": [
    {
     "name": "stdout",
     "output_type": "stream",
     "text": [
      "The autoreload extension is already loaded. To reload it, use:\n",
      "  %reload_ext autoreload\n",
      "The dotenv extension is already loaded. To reload it, use:\n",
      "  %reload_ext dotenv\n"
     ]
    }
   ],
   "source": [
    "%load_ext autoreload\n",
    "%autoreload\n",
    "%load_ext dotenv\n",
    "%dotenv\n",
    "\n",
    "import pandas as pd\n",
    "import airtable #import Airtable\n",
    "import zipfile\n",
    "import os\n",
    "import requests\n",
    "from urllib.parse import urlparse\n",
    "import pdb\n",
    "\n",
    "AIRTABLE_URL = \"https://airtable.com/shr03m1opFmo8MJdr\""
   ]
  },
  {
   "cell_type": "markdown",
   "metadata": {},
   "source": [
    "# Download data"
   ]
  },
  {
   "cell_type": "code",
   "execution_count": 89,
   "metadata": {
    "ExecuteTime": {
     "end_time": "2020-12-06T20:25:49.883473Z",
     "start_time": "2020-12-06T20:25:49.854887Z"
    }
   },
   "outputs": [],
   "source": [
    "def download_and_unzip(url, filename):\n",
    "    verify_exceptions = ['www.cer-rec.gc.ca']\n",
    "    try:\n",
    "        if os.path.exists(filename):\n",
    "            os.remove(filename)\n",
    "        with open(filename, 'wb') as f:\n",
    "            verify = False if urlparse(url).netloc in verify_exceptions else True\n",
    "            resp = requests.get(url, verify=verify)\n",
    "            f.write(resp.content)\n",
    "            filenames = [filename]\n",
    "        if filename.split(\".\")[-1] == \"zip\":\n",
    "            with zipfile.ZipFile(filename, 'r') as zip_ref:\n",
    "                filenames = zip_ref.namelist()\n",
    "                zip_ref.extractall()\n",
    "        print(\"Successfully downloaded\")\n",
    "        return filenames\n",
    "    except Exception as e:\n",
    "        print(e)"
   ]
  },
  {
   "cell_type": "code",
   "execution_count": 90,
   "metadata": {
    "ExecuteTime": {
     "end_time": "2020-12-06T20:25:50.613933Z",
     "start_time": "2020-12-06T20:25:50.596530Z"
    }
   },
   "outputs": [],
   "source": [
    "data_files = airtable.Airtable(\"appHJQOgkMxgv7LJ6\", \"Table 1\", os.environ[\"AIRTABLE_KEY\"])"
   ]
  },
  {
   "cell_type": "code",
   "execution_count": 91,
   "metadata": {
    "ExecuteTime": {
     "end_time": "2020-12-06T20:26:05.880151Z",
     "start_time": "2020-12-06T20:25:51.101877Z"
    }
   },
   "outputs": [
    {
     "name": "stdout",
     "output_type": "stream",
     "text": [
      "[Errno 2] No such file or directory: 'data'\n",
      "/home/ryderb/Documents/Sideprojects/CarbonPolicy/EnergyFlowSankeyCanada/example-setup/Super-Sankey-CAN-Energy-Flows/data\n",
      "Downloading 'Supply and demand of primary and secondary energy in terajoules, annual'\n",
      "Successfully downloaded\n",
      "Downloading 'Master \n",
      "Imports/Exports, All Energy Types\n",
      "'\n",
      "[Errno 36] File name too long: 'eyJ2aXN1YWxpemF0aW9uU2V0dGluZ3MiOnsiZWxlY3RyaWNpdHnED2Ftb3VudCI6Ik1XLmgiLCJhcnJhbmdlQnkiOiJsb2PFP8QXY3RpdsUzImltcG9ydHNFeMUHIiwic3VidHlwZSI6IsQNxWDENTp7ImPEXHJ5IjpudWxsLCJvcmlnaW5zIjpbXSwiY29udGluZW50xxBkZXN0aW7FcOQAqH0sInByb3ZpbmNlxyHGbzpbXX0sInRpbWVsaW5lxGVzY2FsZUxpbmtlZCI6dHJ1ZSwiZ3JvdXBpbmciOiJ5ZWFyIiwi5QDVxS50YXJ0xAnFGToxOTkwLCJxdWFydGXED30sImVuZMogMjAxOcsgNH3EASznAQTmAQNW7AFqIjrtAWEsImxhbmd1YcR8ImXkAUlzaG93RXhwbGHpAOvmALNvcGVuzhhbzEpUaXRsZcsgIiwiY3J1ZGVPaWxJ5gGQ2yLnAavTIm5hdHVyYWxHYd4dTGlxdWlk1CRyZWZpbmVkUGV0cm9sZXVtUHJvZHVj02zmAfJmaWRlbnRpYWxpdHlNZW517AD'\n",
      "Downloading 'Natural Gas Exports and Imports Annual'\n"
     ]
    },
    {
     "name": "stderr",
     "output_type": "stream",
     "text": [
      "/home/ryderb/miniconda3/envs/supersankey/lib/python3.8/site-packages/urllib3/connectionpool.py:1013: InsecureRequestWarning: Unverified HTTPS request is being made to host 'www.cer-rec.gc.ca'. Adding certificate verification is strongly advised. See: https://urllib3.readthedocs.io/en/latest/advanced-usage.html#ssl-warnings\n",
      "  warnings.warn(\n"
     ]
    },
    {
     "name": "stdout",
     "output_type": "stream",
     "text": [
      "Successfully downloaded\n",
      "Downloading 'Electricity Exports and Imports Annual'\n"
     ]
    },
    {
     "name": "stderr",
     "output_type": "stream",
     "text": [
      "/home/ryderb/miniconda3/envs/supersankey/lib/python3.8/site-packages/urllib3/connectionpool.py:1013: InsecureRequestWarning: Unverified HTTPS request is being made to host 'www.cer-rec.gc.ca'. Adding certificate verification is strongly advised. See: https://urllib3.readthedocs.io/en/latest/advanced-usage.html#ssl-warnings\n",
      "  warnings.warn(\n"
     ]
    },
    {
     "name": "stdout",
     "output_type": "stream",
     "text": [
      "Successfully downloaded\n",
      "Downloading 'Natural Gas Exports and Imports Annual Data Dictionary'\n"
     ]
    },
    {
     "name": "stderr",
     "output_type": "stream",
     "text": [
      "/home/ryderb/miniconda3/envs/supersankey/lib/python3.8/site-packages/urllib3/connectionpool.py:1013: InsecureRequestWarning: Unverified HTTPS request is being made to host 'www.cer-rec.gc.ca'. Adding certificate verification is strongly advised. See: https://urllib3.readthedocs.io/en/latest/advanced-usage.html#ssl-warnings\n",
      "  warnings.warn(\n"
     ]
    },
    {
     "name": "stdout",
     "output_type": "stream",
     "text": [
      "Successfully downloaded\n",
      "Downloading 'Household energy consumption, by type of dwelling, Canada and provinces\n",
      "'\n",
      "Successfully downloaded\n",
      "Downloading 'Imports Exports Data Visualization'\n"
     ]
    },
    {
     "name": "stderr",
     "output_type": "stream",
     "text": [
      "/home/ryderb/miniconda3/envs/supersankey/lib/python3.8/site-packages/urllib3/connectionpool.py:1013: InsecureRequestWarning: Unverified HTTPS request is being made to host 'www.cer-rec.gc.ca'. Adding certificate verification is strongly advised. See: https://urllib3.readthedocs.io/en/latest/advanced-usage.html#ssl-warnings\n",
      "  warnings.warn(\n"
     ]
    },
    {
     "name": "stdout",
     "output_type": "stream",
     "text": [
      "Successfully downloaded\n",
      "Downloading 'Electricity Exports and Imports Data Dictionary'\n"
     ]
    },
    {
     "name": "stderr",
     "output_type": "stream",
     "text": [
      "/home/ryderb/miniconda3/envs/supersankey/lib/python3.8/site-packages/urllib3/connectionpool.py:1013: InsecureRequestWarning: Unverified HTTPS request is being made to host 'www.cer-rec.gc.ca'. Adding certificate verification is strongly advised. See: https://urllib3.readthedocs.io/en/latest/advanced-usage.html#ssl-warnings\n",
      "  warnings.warn(\n"
     ]
    },
    {
     "name": "stdout",
     "output_type": "stream",
     "text": [
      "Successfully downloaded\n",
      "Downloading 'Household energy consumption, Canada and provinces'\n",
      "Successfully downloaded\n",
      "/home/ryderb/Documents/Sideprojects/CarbonPolicy/EnergyFlowSankeyCanada/example-setup/Super-Sankey-CAN-Energy-Flows\n"
     ]
    }
   ],
   "source": [
    "\n",
    "table_1 = data_files.get_all()\n",
    "# Link is mandatory field\n",
    "mandatory_fields = ['Link', 'Name']\n",
    "for field in mandatory_fields:\n",
    "    table_1 = [entry for entry in table_1 if field in entry['fields'].keys()]\n",
    "%cd data\n",
    "for entry in table_1:\n",
    "    url = entry['fields']['Link']\n",
    "    filename = os.path.split(url)[-1]\n",
    "    if True or not os.path.exists(filename):\n",
    "        print(\"Downloading \\'{}\\'\".format(entry['fields']['Name']))\n",
    "        filenames = download_and_unzip(url, filename)\n",
    "    entry['fields']['filenames'] = filenames\n",
    "%cd .."
   ]
  },
  {
   "cell_type": "code",
   "execution_count": 92,
   "metadata": {
    "ExecuteTime": {
     "end_time": "2020-12-06T20:26:06.062499Z",
     "start_time": "2020-12-06T20:26:05.895538Z"
    },
    "scrolled": true
   },
   "outputs": [
    {
     "name": "stdout",
     "output_type": "stream",
     "text": [
      "25100029.csv           25100061_MetaData.csv\r\n",
      "\u001b[0m\u001b[01;31m25100029-eng.zip\u001b[0m       \u001b[01;32mdownload_data.sh\u001b[0m*\r\n",
      "25100029_MetaData.csv  electricity-exports-and-imports-annual.csv\r\n",
      "25100060.csv           electricity-exports-and-imports-data-dictionary.csv\r\n",
      "\u001b[01;31m25100060-eng.zip\u001b[0m       imports-exports-data-visualization.csv\r\n",
      "25100060_MetaData.csv  natural-gas-exports-and-imports-annual.csv\r\n",
      "25100061.csv           natural-gas-exports-and-imports-data-dictionary.csv\r\n",
      "\u001b[01;31m25100061-eng.zip\u001b[0m\r\n"
     ]
    }
   ],
   "source": [
    "%ls data"
   ]
  },
  {
   "cell_type": "markdown",
   "metadata": {},
   "source": [
    "# Load & Explore Data"
   ]
  },
  {
   "cell_type": "code",
   "execution_count": 94,
   "metadata": {
    "ExecuteTime": {
     "end_time": "2020-12-06T20:26:27.558939Z",
     "start_time": "2020-12-06T20:26:26.703569Z"
    },
    "scrolled": true
   },
   "outputs": [
    {
     "name": "stdout",
     "output_type": "stream",
     "text": [
      "[Errno 2] No such file or directory: 'data'\n",
      "/home/ryderb/Documents/Sideprojects/CarbonPolicy/EnergyFlowSankeyCanada/example-setup/Super-Sankey-CAN-Energy-Flows/data\n",
      "'dataframe'\n",
      "Error tokenizing data. C error: Expected 1 fields in line 9, saw 2\n",
      "\n",
      "'dataframe'\n",
      "/home/ryderb/Documents/Sideprojects/CarbonPolicy/EnergyFlowSankeyCanada/example-setup/Super-Sankey-CAN-Energy-Flows\n"
     ]
    }
   ],
   "source": [
    "datasets = []\n",
    "%cd data\n",
    "\n",
    "def read_file_to_df(filename, file_ext, table_type, data_entry, save=True):\n",
    "    \"\"\"\n",
    "    table_type: array containing 'Table' or 'Dictionary'\n",
    "    \"\"\"\n",
    "    read_method = {\"csv\": pd.read_csv, \"xlsx\": pd.read_excel}\n",
    "    \n",
    "    try:\n",
    "        if file_ext in read_method.keys():\n",
    "            if 'Table' in table_type:\n",
    "            # Could have just passed the url, but some datasets were zipped\n",
    "                try:\n",
    "                    entry['dataframe'] = read_method[file_ext](filename)\n",
    "                except UnicodeDecodeError:\n",
    "                    entry['dataframe'] = read_method[file_ext](filename, encoding='latin-1')\n",
    "                datasets.append(entry['dataframe'])\n",
    "                pd.to_pickle(entry['dataframe'], filename.split('.')[0] + \"-dirty.df\")\n",
    "            if 'Dictionary' in table_type:\n",
    "                # Could have just passed the url, but some datasets were zipped\n",
    "                try:\n",
    "                    entry['data-dictionary'] = read_method[file_ext](filename)\n",
    "                except UnicodeDecodeError:\n",
    "                    entry['data-dictionary'] = read_method[file_ext](filename, encoding='latin-1')\n",
    "                pd.to_pickle(entry['dataframe'], filename.split('.')[0] + \"-dirty.df\")\n",
    "                \n",
    "    except Exception as e:\n",
    "        print(e)\n",
    "\n",
    "for entry in table_1:\n",
    "    url = entry['fields']['Link']\n",
    "    filename = os.path.split(url)[-1]\n",
    "    file_ext = filename.split('.')[-1]\n",
    "    if file_ext == \"zip\":\n",
    "        # Figure out which filename is data, and which is dictionary\n",
    "        for filename in entry['fields']['filenames']:\n",
    "            file_ext = filename.split('.')[-1]\n",
    "            # This works so far for statscan datasets\n",
    "            if \"meta\" in filename.lower():\n",
    "                read_file_to_df(filename, file_ext, [\"Dictionary\"], entry)\n",
    "            else:\n",
    "                read_file_to_df(filename, file_ext, [\"Table\"], entry)\n",
    "                \n",
    "    read_file_to_df(filename, file_ext, entry['fields']['Type'], entry)\n",
    "%cd ..\n",
    "        "
   ]
  },
  {
   "cell_type": "code",
   "execution_count": 68,
   "metadata": {
    "ExecuteTime": {
     "end_time": "2020-12-06T19:55:13.258285Z",
     "start_time": "2020-12-06T19:55:13.240646Z"
    }
   },
   "outputs": [
    {
     "data": {
      "text/plain": [
       "['Supply and demand of primary and secondary energy in terajoules, annual',\n",
       " 'Master \\nImports/Exports, All Energy Types\\n',\n",
       " 'Natural Gas Exports and Imports Annual',\n",
       " 'Electricity Exports and Imports Annual',\n",
       " 'Natural Gas Exports and Imports Annual Data Dictionary',\n",
       " 'Household energy consumption, by type of dwelling, Canada and provinces\\n',\n",
       " 'Imports Exports Data Visualization',\n",
       " 'Electricity Exports and Imports Data Dictionary',\n",
       " 'Household energy consumption, Canada and provinces']"
      ]
     },
     "metadata": {},
     "output_type": "display_data"
    }
   ],
   "source": [
    "display([entry['fields']['Name'] for entry in table_1])\n",
    "\n"
   ]
  },
  {
   "cell_type": "code",
   "execution_count": null,
   "metadata": {},
   "outputs": [],
   "source": []
  }
 ],
 "metadata": {
  "kernelspec": {
   "display_name": "supersankey",
   "language": "python",
   "name": "supersankey"
  },
  "language_info": {
   "codemirror_mode": {
    "name": "ipython",
    "version": 3
   },
   "file_extension": ".py",
   "mimetype": "text/x-python",
   "name": "python",
   "nbconvert_exporter": "python",
   "pygments_lexer": "ipython3",
   "version": "3.8.5"
  },
  "toc": {
   "base_numbering": 1,
   "nav_menu": {},
   "number_sections": true,
   "sideBar": true,
   "skip_h1_title": false,
   "title_cell": "Table of Contents",
   "title_sidebar": "Contents",
   "toc_cell": false,
   "toc_position": {},
   "toc_section_display": true,
   "toc_window_display": false
  }
 },
 "nbformat": 4,
 "nbformat_minor": 4
}
